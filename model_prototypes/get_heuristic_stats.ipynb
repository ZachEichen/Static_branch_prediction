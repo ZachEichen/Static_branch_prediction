{
 "cells": [
  {
   "cell_type": "code",
   "execution_count": 5,
   "metadata": {},
   "outputs": [],
   "source": [
    "import os\n",
    "import pandas as pd\n",
    "import math"
   ]
  },
  {
   "cell_type": "code",
   "execution_count": 6,
   "metadata": {},
   "outputs": [
    {
     "name": "stdout",
     "output_type": "stream",
     "text": [
      "associative_containers.csv\n"
     ]
    }
   ],
   "source": [
    "heuristics_folder = \"heuristic_data\"\n",
    "branch_prob = \"branch_prob\"\n",
    "\n",
    "algorithms = \"algorithms.csv\" # Huge file -- too large for test set on its own\n",
    "associative_containers = \"associative_containers.csv\" # to match test set size with val set size\n",
    "\n",
    "heuristic_probs = pd.Series(dtype=float)\n",
    "i = 0\n",
    "for filename in os.listdir(heuristics_folder):\n",
    "        path = os.path.join(heuristics_folder, filename)\n",
    "        if filename == associative_containers:\n",
    "            print(filename)\n",
    "            if os.path.isfile(path):\n",
    "                try:\n",
    "                    input_file = pd.read_csv(path)\n",
    "                    heuristic_probs = pd.concat([heuristic_probs, input_file[branch_prob]], ignore_index=True)\n",
    "                except:\n",
    "                    pass\n",
    "        i += 1"
   ]
  },
  {
   "cell_type": "code",
   "execution_count": 7,
   "metadata": {},
   "outputs": [
    {
     "name": "stdout",
     "output_type": "stream",
     "text": [
      "associative_containers.csv\n"
     ]
    }
   ],
   "source": [
    "data_folder = \"data\"\n",
    "branch_prob = \" branch_prob\"\n",
    "\n",
    "data_probs = pd.Series(dtype=float)\n",
    "\n",
    "i = 0\n",
    "for filename in os.listdir(data_folder):\n",
    "        path = os.path.join(data_folder, filename)\n",
    "        if filename == associative_containers: #(i < 7 and filename != algorithms) or\n",
    "            print(filename)\n",
    "            if os.path.isfile(path):\n",
    "                try:\n",
    "                    input_file = pd.read_csv(path)\n",
    "                    data_probs = pd.concat([data_probs, input_file[branch_prob]], ignore_index=True)\n",
    "                except:\n",
    "                    pass\n",
    "        i += 1"
   ]
  },
  {
   "cell_type": "code",
   "execution_count": 8,
   "metadata": {},
   "outputs": [
    {
     "name": "stdout",
     "output_type": "stream",
     "text": [
      "RMSE for Heuristics: 0.41796273415783103\n",
      "MAE for Heuristics: 0.32266867930085\n"
     ]
    }
   ],
   "source": [
    "from sklearn.metrics import mean_squared_error, mean_absolute_error\n",
    "\n",
    "print(f\"RMSE for Heuristics: {mean_squared_error(data_probs.tolist(), heuristic_probs.tolist(), squared=False)}\") #RMSE\n",
    "print(f\"MAE for Heuristics: {mean_absolute_error(data_probs.tolist(), heuristic_probs.tolist())}\")"
   ]
  },
  {
   "cell_type": "code",
   "execution_count": 9,
   "metadata": {},
   "outputs": [
    {
     "name": "stdout",
     "output_type": "stream",
     "text": [
      "190\n"
     ]
    }
   ],
   "source": [
    "print(len(data_probs))"
   ]
  }
 ],
 "metadata": {
  "kernelspec": {
   "display_name": "Python 3",
   "language": "python",
   "name": "python3"
  },
  "language_info": {
   "codemirror_mode": {
    "name": "ipython",
    "version": 3
   },
   "file_extension": ".py",
   "mimetype": "text/x-python",
   "name": "python",
   "nbconvert_exporter": "python",
   "pygments_lexer": "ipython3",
   "version": "3.10.0"
  }
 },
 "nbformat": 4,
 "nbformat_minor": 2
}
