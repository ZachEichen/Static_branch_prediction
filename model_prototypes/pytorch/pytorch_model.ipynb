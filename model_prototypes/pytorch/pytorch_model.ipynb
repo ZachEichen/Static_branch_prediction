{
 "cells": [
  {
   "cell_type": "code",
   "execution_count": 10,
   "metadata": {},
   "outputs": [],
   "source": [
    "import torch\n",
    "import torch.nn as nn\n",
    "import torch.nn.functional as F\n",
    "\n",
    "from torch.utils.data import Dataset, DataLoader\n",
    "\n",
    "import pandas as pd\n",
    "from tqdm.auto import tqdm, trange\n"
   ]
  },
  {
   "cell_type": "code",
   "execution_count": 11,
   "metadata": {},
   "outputs": [],
   "source": [
    "class LinearRegressionFFN(nn.Module):\n",
    "    def __init__(self, input_dim, hidden_dim=50):\n",
    "        super(LinearRegressionFFN, self).__init__()\n",
    "        self.linear1 = nn.Linear(input_dim, hidden_dim)\n",
    "        self.linear2 = nn.Linear(hidden_dim, 1)\n",
    "\n",
    "    def forward(self, input):\n",
    "        hidden_output = F.softmax(self.linear1(input), dim=-1)\n",
    "        return torch.sigmoid(self.linear2(hidden_output))\n"
   ]
  },
  {
   "cell_type": "code",
   "execution_count": 12,
   "metadata": {},
   "outputs": [],
   "source": [
    "train_file = \"../model_data/branch_train.csv\"\n",
    "val_file = \"../model_data/branch_val.csv\"\n",
    "\n",
    "branch_train_data = pd.read_csv(train_file)\n",
    "branch_val_data = pd.read_csv(val_file)\n",
    "\n",
    "branch_training_data = [branch_train_data, branch_val_data]\n",
    "\n",
    "branch_training_data = pd.concat(branch_training_data)"
   ]
  },
  {
   "cell_type": "code",
   "execution_count": 13,
   "metadata": {},
   "outputs": [],
   "source": [
    "branch_prob = 'branch_prob'\n",
    "raw_string = 'raw_string'\n",
    "\n",
    "clean_train_data = branch_training_data.loc[:, ~branch_training_data.columns.isin([branch_prob, raw_string])]\n",
    "clean_train_labels = branch_training_data[branch_prob].tolist()\n",
    "\n",
    "training_data = [(torch.Tensor(clean_train_data.iloc[i].tolist()), torch.Tensor([clean_train_labels[i]])) for i in range(len(clean_train_data))]"
   ]
  },
  {
   "cell_type": "markdown",
   "metadata": {},
   "source": [
    "## Training Loop"
   ]
  },
  {
   "cell_type": "code",
   "execution_count": 14,
   "metadata": {},
   "outputs": [
    {
     "name": "stderr",
     "output_type": "stream",
     "text": [
      "100%|██████████| 1623/1623 [00:00<00:00, 1965.87it/s]\n",
      "100%|██████████| 1623/1623 [00:00<00:00, 2212.40it/s]\n",
      "100%|██████████| 1623/1623 [00:00<00:00, 2105.72it/s]\n",
      "100%|██████████| 1623/1623 [00:00<00:00, 2225.31it/s]\n",
      "100%|██████████| 1623/1623 [00:00<00:00, 2261.04it/s]\n",
      "100%|██████████| 1623/1623 [00:00<00:00, 2326.71it/s]\n",
      "100%|██████████| 1623/1623 [00:00<00:00, 2272.16it/s]\n",
      "100%|██████████| 1623/1623 [00:00<00:00, 2219.98it/s]\n",
      "100%|██████████| 1623/1623 [00:00<00:00, 2279.38it/s]\n",
      "100%|██████████| 1623/1623 [00:00<00:00, 2287.68it/s]\n",
      "100%|██████████| 1623/1623 [00:00<00:00, 2263.87it/s]\n",
      "100%|██████████| 1623/1623 [00:00<00:00, 2186.42it/s]\n",
      "100%|██████████| 1623/1623 [00:00<00:00, 2176.89it/s]\n",
      "100%|██████████| 1623/1623 [00:00<00:00, 2149.82it/s]\n",
      "100%|██████████| 1623/1623 [00:00<00:00, 2197.46it/s]\n",
      "100%|██████████| 1623/1623 [00:00<00:00, 2267.14it/s]\n",
      "100%|██████████| 1623/1623 [00:00<00:00, 2185.85it/s]\n",
      "100%|██████████| 1623/1623 [00:00<00:00, 2295.25it/s]\n",
      "100%|██████████| 1623/1623 [00:00<00:00, 2326.41it/s]\n",
      "100%|██████████| 1623/1623 [00:00<00:00, 2284.04it/s]\n",
      "100%|██████████| 1623/1623 [00:00<00:00, 2314.86it/s]\n",
      "100%|██████████| 1623/1623 [00:00<00:00, 2296.39it/s]\n",
      "100%|██████████| 1623/1623 [00:00<00:00, 2270.96it/s]\n",
      "100%|██████████| 1623/1623 [00:00<00:00, 2275.97it/s]\n",
      "100%|██████████| 1623/1623 [00:00<00:00, 2282.20it/s]\n",
      "100%|██████████| 1623/1623 [00:00<00:00, 2236.56it/s]\n",
      "100%|██████████| 1623/1623 [00:00<00:00, 2271.42it/s]\n",
      "100%|██████████| 1623/1623 [00:00<00:00, 2156.05it/s]\n",
      "100%|██████████| 1623/1623 [00:00<00:00, 2261.28it/s]\n",
      "100%|██████████| 1623/1623 [00:00<00:00, 2311.48it/s]\n",
      "100%|██████████| 1623/1623 [00:00<00:00, 2261.49it/s]\n",
      "100%|██████████| 1623/1623 [00:00<00:00, 2285.19it/s]\n",
      "100%|██████████| 1623/1623 [00:00<00:00, 2287.80it/s]\n",
      "100%|██████████| 1623/1623 [00:00<00:00, 2242.39it/s]\n",
      "100%|██████████| 1623/1623 [00:00<00:00, 2198.64it/s]\n",
      "100%|██████████| 1623/1623 [00:00<00:00, 2283.04it/s]\n",
      "100%|██████████| 1623/1623 [00:00<00:00, 2282.39it/s]\n",
      "100%|██████████| 1623/1623 [00:00<00:00, 2321.80it/s]\n",
      "100%|██████████| 1623/1623 [00:00<00:00, 2307.62it/s]\n",
      "100%|██████████| 1623/1623 [00:00<00:00, 2278.36it/s]\n"
     ]
    }
   ],
   "source": [
    "model = LinearRegressionFFN(input_dim=len(clean_train_data.columns))\n",
    "model.train()\n",
    "\n",
    "epochs = 40\n",
    "criterion = torch.nn.MSELoss()\n",
    "optimizer = torch.optim.AdamW(model.parameters(), lr=.001)\n",
    "\n",
    "rmses = []\n",
    "for epoch in range(epochs):\n",
    "    for step, data in enumerate(tqdm(training_data)):\n",
    "        inputs, label = data\n",
    "\n",
    "        optimizer.zero_grad()\n",
    "        prediction = model(inputs)\n",
    "        loss = criterion(prediction, label)\n",
    "\n",
    "        if step == 0:\n",
    "            rmses.append(float(loss))\n",
    "\n",
    "        loss.backward()\n",
    "        optimizer.step()"
   ]
  },
  {
   "cell_type": "code",
   "execution_count": 15,
   "metadata": {},
   "outputs": [
    {
     "data": {
      "text/plain": [
       "[<matplotlib.lines.Line2D at 0x147235de0>]"
      ]
     },
     "execution_count": 15,
     "metadata": {},
     "output_type": "execute_result"
    },
    {
     "data": {
      "image/png": "[encoded data removed]",
      "text/plain": [
       "<Figure size 640x480 with 1 Axes>"
      ]
     },
     "metadata": {},
     "output_type": "display_data"
    }
   ],
   "source": [
    "import matplotlib.pyplot as plt\n",
    "\n",
    "plt.plot(rmses)"
   ]
  },
  {
   "cell_type": "code",
   "execution_count": 16,
   "metadata": {},
   "outputs": [],
   "source": [
    "test_file = \"../model_data/branch_test.csv\"\n",
    "branch_test_data = pd.read_csv(test_file)\n",
    "\n",
    "branch_prob = 'branch_prob'\n",
    "raw_string = 'raw_string'\n",
    "\n",
    "clean_test_data = branch_test_data.loc[:, ~branch_test_data.columns.isin([branch_prob, raw_string])]\n",
    "clean_test_labels = branch_test_data[branch_prob].tolist()\n",
    "\n",
    "test_data = [(torch.Tensor(clean_test_data.iloc[i].tolist()), torch.Tensor([clean_test_labels[i]])) for i in range(len(clean_test_data))]"
   ]
  },
  {
   "cell_type": "code",
   "execution_count": 17,
   "metadata": {},
   "outputs": [
    {
     "name": "stderr",
     "output_type": "stream",
     "text": [
      "100%|██████████| 279/279 [00:00<00:00, 18721.28it/s]\n"
     ]
    }
   ],
   "source": [
    "model.eval()\n",
    "\n",
    "predictions = []\n",
    "\n",
    "with torch.no_grad():\n",
    "    for step, data in enumerate(tqdm(test_data)):\n",
    "        inputs, label = data\n",
    "        prediction = model(inputs)\n",
    "        predictions.extend(prediction)"
   ]
  },
  {
   "cell_type": "code",
   "execution_count": 18,
   "metadata": {},
   "outputs": [
    {
     "name": "stdout",
     "output_type": "stream",
     "text": [
      "RMSE for Test Set: 0.38806847954991686\n",
      "MAE for Test Set: 0.3292333661598665\n"
     ]
    }
   ],
   "source": [
    "from sklearn.metrics import mean_squared_error, mean_absolute_error\n",
    "\n",
    "print(f\"RMSE for Test Set: {mean_squared_error(clean_test_labels, predictions, squared=False)}\") #RMSE\n",
    "print(f\"MAE for Test Set: {mean_absolute_error(clean_test_labels, predictions)}\")"
   ]
  },
  {
   "cell_type": "code",
   "execution_count": 19,
   "metadata": {},
   "outputs": [],
   "source": [
    "predictions_file = \"pytorch_test_predictions.csv\"\n",
    "\n",
    "test_predictions = [predictions[i].item() for i in range(len(predictions))]\n",
    "\n",
    "test_predictions = pd.Series(test_predictions)\n",
    "\n",
    "test_predictions.to_csv(predictions_file, index=False, header=False)"
   ]
  },
  {
   "cell_type": "code",
   "execution_count": 20,
   "metadata": {},
   "outputs": [],
   "source": [
    "pytorch_file = \"pytorch_branch_model.pt\"\n",
    "\n",
    "torch.save(model.state_dict(), pytorch_file)"
   ]
  }
 ],
 "metadata": {
  "kernelspec": {
   "display_name": "Python 3",
   "language": "python",
   "name": "python3"
  },
  "language_info": {
   "codemirror_mode": {
    "name": "ipython",
    "version": 3
   },
   "file_extension": ".py",
   "mimetype": "text/x-python",
   "name": "python",
   "nbconvert_exporter": "python",
   "pygments_lexer": "ipython3",
   "version": "3.10.0"
  }
 },
 "nbformat": 4,
 "nbformat_minor": 2
}
